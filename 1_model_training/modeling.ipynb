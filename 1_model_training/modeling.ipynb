{
 "cells": [
  {
   "cell_type": "markdown",
   "id": "db8ee0b1-2ed0-47ed-9720-d6de2216a537",
   "metadata": {},
   "source": [
    "# Import Libraries"
   ]
  },
  {
   "cell_type": "code",
   "execution_count": 3,
   "id": "6bb43d33-4e6f-4974-9bad-de55af75d116",
   "metadata": {
    "tags": []
   },
   "outputs": [],
   "source": [
    "%%capture\n",
    "# Install important libraries\n",
    "%pip install tensorflow_io sagemaker -U"
   ]
  },
  {
   "cell_type": "code",
   "execution_count": 5,
   "id": "a61c2d02-3f1a-4abf-a05c-77e9219d81f8",
   "metadata": {
    "tags": []
   },
   "outputs": [
    {
     "name": "stdout",
     "output_type": "stream",
     "text": [
      "sagemaker.config INFO - Not applying SDK defaults from location: /etc/xdg/sagemaker/config.yaml\n",
      "sagemaker.config INFO - Not applying SDK defaults from location: /home/ec2-user/.config/sagemaker/config.yaml\n"
     ]
    }
   ],
   "source": [
    "import os\n",
    "import sagemaker\n",
    "from sagemaker.estimator import Estimator\n",
    "from framework import CustomFramework"
   ]
  },
  {
   "cell_type": "code",
   "execution_count": 6,
   "id": "7ab5268a-3c49-4adb-9992-1eea1d482922",
   "metadata": {
    "tags": []
   },
   "outputs": [],
   "source": [
    "# Save the IAM role in a variable called `role`.\n",
    "# This would be useful when training the model.\n",
    "role = sagemaker.get_execution_role()"
   ]
  },
  {
   "cell_type": "code",
   "execution_count": 7,
   "id": "d1a93391-5d8e-419f-9002-43a79dbab578",
   "metadata": {
    "tags": []
   },
   "outputs": [],
   "source": [
    "# The train and val paths below are public S3 buckets created by Udacity for\n",
    "# this project\n",
    "inputs = {\n",
    "    'train': 's3://cd2688-object-detection-tf2/train/',\n",
    "    'val': 's3://cd2688-object-detection-tf2/val/'\n",
    "}\n",
    "\n",
    "# Insert path of a folder in your personal S3 bucket to store tensorboard logs.\n",
    "tensorboard_s3_prefix = 's3://sdc-object-detection-bucket/logs/'"
   ]
  }
 ],
 "metadata": {
  "kernelspec": {
   "display_name": "conda_tensorflow2_p310",
   "language": "python",
   "name": "conda_tensorflow2_p310"
  },
  "language_info": {
   "codemirror_mode": {
    "name": "ipython",
    "version": 3
   },
   "file_extension": ".py",
   "mimetype": "text/x-python",
   "name": "python",
   "nbconvert_exporter": "python",
   "pygments_lexer": "ipython3",
   "version": "3.10.13"
  }
 },
 "nbformat": 4,
 "nbformat_minor": 5
}
